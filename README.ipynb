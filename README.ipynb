{
 "cells": [
  {
   "cell_type": "markdown",
   "metadata": {
    "collapsed": true,
    "pycharm": {
     "name": "#%% md\n"
    }
   },
   "source": [
    "# Risk measures\n",
    "## Drawdown\n",
    "It is the maximum loss from the previous high to a subsequent low,\n",
    "in other words, buy at its highest value and at the lowest value."
   ]
  },
  {
   "cell_type": "code",
   "execution_count": 17,
   "outputs": [
    {
     "data": {
      "text/plain": "193205"
     },
     "execution_count": 17,
     "metadata": {},
     "output_type": "execute_result"
    }
   ],
   "source": [
    "from risk import drawdown\n",
    "import pandas as pd\n",
    "from risk import drawdown\n",
    "\n",
    "data_series = pd.read_csv('data/Portfolios_Formed_on_ME_monthly_EW.csv',\n",
    "                          header=0, index_col=0, parse_dates=True,\n",
    "                          na_values=-99.99)\n",
    "returns = data_series[['Lo 10', 'Hi 10']]/100\n",
    "drawdown_values = drawdown(returns['Lo 10'], 1000) # if investing 1000 usd in lo 10\n",
    "\n",
    "drawdown_values['Drawdown'].min() # highest drawdown in the series\n",
    "drawdown_values['Drawdown'].idxmin() # when it happen"
   ],
   "metadata": {
    "collapsed": false,
    "pycharm": {
     "name": "#%%\n"
    }
   }
  }
 ],
 "metadata": {
  "kernelspec": {
   "display_name": "Python 3",
   "language": "python",
   "name": "python3"
  },
  "language_info": {
   "codemirror_mode": {
    "name": "ipython",
    "version": 2
   },
   "file_extension": ".py",
   "mimetype": "text/x-python",
   "name": "python",
   "nbconvert_exporter": "python",
   "pygments_lexer": "ipython2",
   "version": "2.7.6"
  }
 },
 "nbformat": 4,
 "nbformat_minor": 0
}